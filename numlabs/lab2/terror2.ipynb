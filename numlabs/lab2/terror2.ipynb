{
 "cells": [
  {
   "cell_type": "code",
   "execution_count": null,
   "metadata": {},
   "outputs": [],
   "source": [
    "import matplotlib.pyplot as plt\n",
    "import context\n",
    "from numlabs.lab2.lab2_functions import euler, leapfrog, runge, midpoint\n",
    "import numpy as np"
   ]
  },
  {
   "cell_type": "code",
   "execution_count": null,
   "metadata": {},
   "outputs": [],
   "source": [
    "theFuncs = {\n",
    "    'euler': euler,\n",
    "    'leapfrog': leapfrog,\n",
    "    'runge': runge,\n",
    "    'midpoint': midpoint\n",
    "}"
   ]
  },
  {
   "cell_type": "code",
   "execution_count": null,
   "metadata": {},
   "outputs": [],
   "source": [
    "def eval_fun(fun_choice, arg_dict):\n",
    "    \"\"\"\n",
    "    Parameters\n",
    "    ----------\n",
    "\n",
    "    fun_choice: str\n",
    "       name of finite difference approx from lab2_functions\n",
    "\n",
    "    arg_dict: dict\n",
    "       dictionary of arguments for lab2_functions\n",
    "\n",
    "    Returns\n",
    "    -------\n",
    "\n",
    "    approxTime, approxTemp: tuple\n",
    "        tuple of ndarray float vectors with time and temperature\n",
    "    \"\"\"\n",
    "    npts = arg_dict['npts']\n",
    "    tend = arg_dict['tend']\n",
    "    To = arg_dict['To']\n",
    "    Ta = arg_dict['Ta']\n",
    "    theLambda = arg_dict['theLambda']\n",
    "    approxTime, approxTemp = theFuncs[fun_choice](npts, tend, To, Ta,\n",
    "                                                  theLambda)\n",
    "    return approxTime, approxTemp"
   ]
  },
  {
   "cell_type": "code",
   "execution_count": null,
   "metadata": {},
   "outputs": [],
   "source": [
    "if __name__ == \"__main__\":\n",
    "\n",
    "    Ta = 20\n",
    "    To = 30\n",
    "    tend = 10.0\n",
    "    theLambda = 0.8\n",
    "    npts = 30\n",
    "\n",
    "    default_args = dict(Ta=Ta,\n",
    "                        To=To,\n",
    "                        tend=tend,\n",
    "                        theLambda=theLambda,\n",
    "                        npts=npts)\n",
    "    #\n",
    "    # start a plot to show all the functions\n",
    "    #\n",
    "    fig, ax1 = plt.subplots(1, 1, figsize=(10, 10))\n",
    "    keep_curves = dict()\n",
    "    fun_list = ['leapfrog', 'midpoint', 'euler', 'runge']\n",
    "    #\n",
    "    # add a curve for each function in fun_list\n",
    "    #\n",
    "    for fun_choice in fun_list:\n",
    "        approxTime, approxTemp = eval_fun(fun_choice, default_args)\n",
    "        ax1.plot(approxTime, approxTemp, label=fun_choice)\n",
    "        keep_curves[fun_choice] = (approxTime,approxTemp)\n",
    "    #\n",
    "    # now add the exact solution for comparison\n",
    "    #\n",
    "    exactTime = np.empty_like(approxTime)\n",
    "    exactTemp = np.empty_like(exactTime)\n",
    "    for i in range(npts):\n",
    "        exactTime[i] = tend * i / npts\n",
    "        exactTemp[i] = Ta + (To - Ta) * np.exp(theLambda * exactTime[i])\n",
    "    ax1.plot(exactTime, exactTemp, 'r+', label='exact')\n",
    "    deltat=tend / npts\n",
    "    title = f\"exact and approx heat equation solutions with deltat={deltat:5.2g}\"\n",
    "    ax1.set(title=title)\n",
    "    ax1.legend(loc='best')\n",
    "    #\n",
    "    # Make a second plot that shows the difference between exact and euler\n",
    "    #\n",
    "    fig2, ax2 = plt.subplots(1, 1,figsize=(10,10))\n",
    "    fun_choice = 'euler'\n",
    "    approxTemp = keep_curves[fun_choice][1]\n",
    "    difference = exactTemp - approxTemp\n",
    "    ax2.plot(exactTime, difference)\n",
    "    title = f\"exact - approx using {fun_choice} with deltat={deltat:5.2g}\"\n",
    "    ax2.set(title=title)\n",
    "    plt.show()"
   ]
  }
 ],
 "metadata": {
  "jupytext": {
   "cell_metadata_filter": "-all",
   "notebook_metadata_filter": "-all",
   "text_representation": {
    "extension": ".py",
    "format_name": "light"
   }
  },
  "kernelspec": {
   "display_name": "Python 3",
   "language": "python",
   "name": "python3"
  },
  "language_info": {
   "codemirror_mode": {
    "name": "ipython",
    "version": 3
   },
   "file_extension": ".py",
   "mimetype": "text/x-python",
   "name": "python",
   "nbconvert_exporter": "python",
   "pygments_lexer": "ipython3",
   "version": "3.7.6"
  },
  "latex_envs": {
   "LaTeX_envs_menu_present": true,
   "autoclose": false,
   "autocomplete": true,
   "bibliofile": "biblio.bib",
   "cite_by": "apalike",
   "current_citInitial": 1,
   "eqLabelWithNumbers": true,
   "eqNumInitial": 1,
   "hotkeys": {
    "equation": "meta-9"
   },
   "labels_anchors": false,
   "latex_user_defs": false,
   "report_style_numbering": false,
   "user_envs_cfg": false
  }
 },
 "nbformat": 4,
 "nbformat_minor": 2
}
