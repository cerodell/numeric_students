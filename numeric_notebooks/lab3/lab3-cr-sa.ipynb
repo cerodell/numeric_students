{
 "cells": [
  {
   "cell_type": "markdown",
   "metadata": {
    "toc": true
   },
   "source": [
    "<h1>Table of Contents<span class=\"tocSkip\"></span></h1>\n",
    "<div class=\"toc\"><ul class=\"toc-item\"><li><span><a href=\"#Laboratory-3:-Linear-Algebra\" data-toc-modified-id=\"Laboratory-3:-Linear-Algebra-1\"><span class=\"toc-item-num\">1&nbsp;&nbsp;</span>Laboratory 3: Linear Algebra</a></span><ul class=\"toc-item\"><li><span><a href=\"#Chris-Rodell\" data-toc-modified-id=\"Chris-Rodell-1.1\"><span class=\"toc-item-num\">1.1&nbsp;&nbsp;</span>Chris Rodell</a></span><ul class=\"toc-item\"><li><ul class=\"toc-item\"><li><span><a href=\"#Problem-Two:-Condition-number-for-Dirichlet-problem\" data-toc-modified-id=\"Problem-Two:-Condition-number-for-Dirichlet-problem-1.1.0.1\"><span class=\"toc-item-num\">1.1.0.1&nbsp;&nbsp;</span>Problem Two: Condition number for Dirichlet problem</a></span></li><li><span><a href=\"#Problem-Three:-Condition-number-for-Neumann-problem\" data-toc-modified-id=\"Problem-Three:-Condition-number-for-Neumann-problem-1.1.0.2\"><span class=\"toc-item-num\">1.1.0.2&nbsp;&nbsp;</span>Problem Three: Condition number for Neumann problem</a></span></li><li><span><a href=\"#Problem-Five:-Consider-a-long-hallway-in-an-office-building.-If-we-assume-that-any\" data-toc-modified-id=\"Problem-Five:-Consider-a-long-hallway-in-an-office-building.-If-we-assume-that-any-1.1.0.3\"><span class=\"toc-item-num\">1.1.0.3&nbsp;&nbsp;</span>Problem Five: Consider a long hallway in an office building. If we assume that any</a></span></li></ul></li></ul></li></ul></li></ul></div>"
   ]
  },
  {
   "cell_type": "markdown",
   "metadata": {},
   "source": [
    " # Laboratory 3: Linear Algebra\n",
    " ## Chris Rodell\n",
    " #### Problem Two: Condition number for Dirichlet problem\n",
    " Boundary condtions for a Dirichlet problem are:\n",
    " $$\n",
    " u(0)=u(1)=0\n",
    " $$\n",
    " *Solution of an ODE Using Linear Algebra*\n",
    " - a\\) Using Python, compute the condition number for the matrix\n",
    " 𝐴1 from Equation Differential System Matrix for several values of\n",
    "  𝑁 between 5 and 50. ( Hint: This will be much easier if you write\n",
    " a small Python function that outputs the matrix 𝐴 for a given value\n",
    "  of 𝑁.)"
   ]
  },
  {
   "cell_type": "code",
   "execution_count": 2,
   "metadata": {},
   "outputs": [
    {
     "name": "stdout",
     "output_type": "stream",
     "text": [
      "Matrix A Size: (5, 5) Condition number: 7.643905814828506\n",
      "Matrix A Size: (10, 10) Condition number: 33.07381141107933\n",
      "Matrix A Size: (15, 15) Condition number: 79.37178441258116\n",
      "Matrix A Size: (20, 20) Condition number: 146.08958623336363\n",
      "Matrix A Size: (25, 25) Condition number: 233.13401346970113\n",
      "Matrix A Size: (30, 30) Condition number: 340.473713371065\n",
      "Matrix A Size: (35, 35) Condition number: 468.09526944756664\n",
      "Matrix A Size: (40, 40) Condition number: 615.9920063572671\n",
      "Matrix A Size: (45, 45) Condition number: 784.1602362082386\n",
      "Matrix A Size: (50, 50) Condition number: 972.5977580919995\n"
     ]
    },
    {
     "data": {
      "text/plain": [
       "array([[ 1.,  0.,  0.,  0.,  0.],\n",
       "       [ 1., -2.,  1.,  0.,  0.],\n",
       "       [ 0.,  1., -2.,  1.,  0.],\n",
       "       [ 0.,  0.,  1., -2.,  1.],\n",
       "       [ 0.,  0.,  0.,  0.,  1.]])"
      ]
     },
     "execution_count": 2,
     "metadata": {},
     "output_type": "execute_result"
    }
   ],
   "source": [
    "\n",
    "import numpy as np\n",
    "import matplotlib.pyplot as plt\n",
    "\n",
    "def Dirichlet(N):\n",
    "    \"\"\"\n",
    "    This function that outputs a \n",
    "    matrix A & A2 for a given value of N\n",
    "    using Dirichlet boundary condition.\n",
    "    \"\"\"\n",
    "    A = np.zeros((N,N))\n",
    "    for index in range(1,N-1):\n",
    "        A[index,index] = -2\n",
    "        A[index,index + 1] = A[index,index - 1] = 1\n",
    "\n",
    "    A[0,0] = A[-1,-1] = 1\n",
    "    A2 = A[1:-1,1:-1]\n",
    "    KA = np.linalg.cond(A)\n",
    "    KA2 = np.linalg.cond(A2)\n",
    "\n",
    "    return A, A2, KA, KA2\n",
    "\n",
    "## Loop and calcualte the condition number (KA & KA2) for the matrix (A & A2)\n",
    "N = np.arange(5,55,5)\n",
    "A_list, A2_list, KA_list, KA2_list = [], [], [], []\n",
    "Ashape_list, A2shape_list = [], []\n",
    "for size in N:\n",
    "    A, A2, KA, KA2 = Dirichlet(size)\n",
    "    A_list.append(A)\n",
    "    A2_list.append(A2)\n",
    "    KA_list.append(KA)\n",
    "    KA2_list.append(KA2)\n",
    "    Ashape_list.append(A.shape[0])\n",
    "    A2shape_list.append(A2.shape[0])\n",
    "\n",
    "\n",
    "    ## Print condtion number of matrix A\n",
    "    print(f\"Matrix A Size: {A.shape} Condition number: {KA}\")\n",
    "\n",
    "\n",
    "\n",
    "A_list[0]\n"
   ]
  },
  {
   "cell_type": "markdown",
   "metadata": {},
   "source": [
    "<i> For 5 grid points the matrix should be 6x6"
   ]
  },
  {
   "cell_type": "markdown",
   "metadata": {},
   "source": [
    " - b\\) Can you conjecture how the condition number (K) of 𝐴 depends on 𝑁?\n",
    " $$\n",
    " K=\\|A\\|\\left\\|A^{-1}\\right\\|\n",
    " $$\n",
    " **As the size of the matrix increases the condition number\n",
    " becomes larger. Meaning that the A becomes ill-condition\n",
    " as it grows in size (ie more difficult to solve).\n",
    " Another way you could say this is the range in the\n",
    " eigenvalue is increasing making the condition number\n",
    " large as the matrix become larger and more difficult to solve**"
   ]
  },
  {
   "cell_type": "code",
   "execution_count": 3,
   "metadata": {},
   "outputs": [
    {
     "data": {
      "text/plain": [
       "[Text(0, 0.5, 'Condtion Number (K)'),\n",
       " Text(0.5, 0, 'N (size of one side of matrix)')]"
      ]
     },
     "execution_count": 3,
     "metadata": {},
     "output_type": "execute_result"
    },
    {
     "data": {
      "image/png": "[encoded data removed]",
      "text/plain": [
       "<Figure size 1152x576 with 1 Axes>"
      ]
     },
     "metadata": {
      "needs_background": "light"
     },
     "output_type": "display_data"
    }
   ],
   "source": [
    "\n",
    "## Plt condition number (K) v N size of matirx 𝐴 \n",
    "fig,ax=plt.subplots(1,figsize=(16,8))\n",
    "ax.set_title(\"Condition number (K) v N size of matirx\")\n",
    "# ax.scatter(N,KA_list, marker = '+', color = 'red')\n",
    "ax.plot(Ashape_list,KA_list, color = 'blue', lw = 1.5)\n",
    "ax.grid(True)\n",
    "ax.set(xlabel='N (size of one side of matrix)',ylabel='Condtion Number (K)')\n",
    "\n"
   ]
  },
  {
   "cell_type": "markdown",
   "metadata": {},
   "source": [
    "<i> Is this exponential? quadratic?  how could you figure it out?"
   ]
  },
  {
   "cell_type": "markdown",
   "metadata": {},
   "source": [
    " - c\\) Another way to write the system of equations is to substitute\n",
    " the boundary conditions into the equations, and thereby reduce size\n",
    " of the problem to one of 𝑁−1 equations in 𝑁−1 unknowns. The corresponding\n",
    " matrix is simply the 𝑁−1 by 𝑁−1 submatrix of 𝐴1 from Equation\n",
    " Differential System Matrix.\n",
    "\n",
    " Does this change in the matrix make a significant difference in the condition number?\n",
    "\n",
    "\n",
    " **The change in the matrix makes a difference in the condition\n",
    " number but it is not significant. It only slightly improves the\n",
    " easy in solving the equation.**\n"
   ]
  },
  {
   "cell_type": "code",
   "execution_count": 4,
   "metadata": {},
   "outputs": [
    {
     "name": "stdout",
     "output_type": "stream",
     "text": [
      "Matrix A2 (reduced) Size: (3, 3) Condition number: 5.8284271247461925\n",
      "Matrix A2 (reduced) Size: (8, 8) Condition number: 32.16343747752635\n",
      "Matrix A2 (reduced) Size: (13, 13) Condition number: 78.76998224097105\n",
      "Matrix A2 (reduced) Size: (18, 18) Condition number: 145.64157866809683\n",
      "Matrix A2 (reduced) Size: (23, 23) Condition number: 232.777626218407\n",
      "Matrix A2 (reduced) Size: (28, 28) Condition number: 340.17799078991453\n",
      "Matrix A2 (reduced) Size: (33, 33) Condition number: 467.8426288390642\n",
      "Matrix A2 (reduced) Size: (38, 38) Condition number: 615.771522789354\n",
      "Matrix A2 (reduced) Size: (43, 43) Condition number: 783.9646644423822\n",
      "Matrix A2 (reduced) Size: (48, 48) Condition number: 972.4220495558909\n"
     ]
    }
   ],
   "source": [
    "## Print condtion number of matrix A2 (the reduced matrix)\n",
    "for size in range(len(N)):\n",
    "    print(f\"Matrix A2 (reduced) Size: {A2_list[size].shape} Condition number: {KA2_list[size]}\")\n"
   ]
  },
  {
   "cell_type": "markdown",
   "metadata": {},
   "source": [
    "<i> Okay, you've got the ratio of the sizes of matrices for a and c correct."
   ]
  },
  {
   "cell_type": "code",
   "execution_count": 5,
   "metadata": {},
   "outputs": [
    {
     "data": {
      "text/plain": [
       "[Text(0, 0.5, 'Condtion Number (K)'),\n",
       " Text(0.5, 0, 'N (size of one side of matrix)')]"
      ]
     },
     "execution_count": 5,
     "metadata": {},
     "output_type": "execute_result"
    },
    {
     "data": {
      "image/png": "[encoded data removed]",
      "text/plain": [
       "<Figure size 1152x576 with 1 Axes>"
      ]
     },
     "metadata": {
      "needs_background": "light"
     },
     "output_type": "display_data"
    }
   ],
   "source": [
    "\n",
    "## Plt condition number (K) v N size of matirx A2 \n",
    "fig,ax=plt.subplots(1,figsize=(16,8))\n",
    "ax.set_title(\"Condition number (K) v N size of matirx A and A2 \")\n",
    "# ax.plot(np.log(Ashape_list),KA_list, color = 'blue', lw = 1.5, label = \"Matrix A\")\n",
    "ax.plot(Ashape_list,KA_list, color = 'blue', lw = 1.5, label = \"Matrix A\")\n",
    "ax.plot(A2shape_list,KA2_list, color = 'red', lw = 1.5, label = \"Matrix A2 (reduced)\")\n",
    "ax.grid(True)\n",
    "ax.legend()\n",
    "ax.set(xlabel='N (size of one side of matrix)',ylabel='Condtion Number (K)')\n",
    "\n",
    "\n"
   ]
  },
  {
   "cell_type": "markdown",
   "metadata": {},
   "source": [
    "<i> You should plot versus the size of the system, not the matrix size.  Then they become very similar."
   ]
  },
  {
   "cell_type": "markdown",
   "metadata": {},
   "source": [
    " #### Problem Three: Condition number for Neumann problem\n",
    " Boundary condtions for a discrete Neumann problem are:\n",
    " $$\n",
    " u_{-1}-2 u_{0}+u_{1}=d^{2} f_{0} \\quad \\text { and } \\quad u_{N-1}-2 u_{N}+u_{N+1}=d^{2} f_{N}\n",
    " $$\n",
    "\n",
    "\n",
    " - a\\) Derive the matrix corresponding to the linear system to be solved in both\n",
    "  of these cases.\n",
    " **SEE ATTACHED PNG IF NO DISPLAY**\n",
    " <img src='matrix_q3.png' width='60%' />\n"
   ]
  },
  {
   "cell_type": "markdown",
   "metadata": {},
   "source": [
    "<i> matrix_q3.png only includes one of the two matrices"
   ]
  },
  {
   "cell_type": "code",
   "execution_count": 6,
   "metadata": {},
   "outputs": [],
   "source": [
    "\n",
    "def Neumann(N):\n",
    "    \"\"\"\n",
    "    This function that outputs a \n",
    "    matrix A3 for a given value of N\n",
    "    using Neumann Boundary Conditions\n",
    "    \"\"\"\n",
    "    A = np.zeros((N,N))\n",
    "    for index in range(1,N-1):\n",
    "        A[index,index] = -2\n",
    "        A[index,index + 1] = A[index,index - 1] = 1\n",
    "\n",
    "    A[0,0] = A[-1,-1] =1\n",
    "    A3 = A[1:-1,1:-1]\n",
    "    A3[0,1] = A3[-1,-2] = 2\n",
    "    c = np.full(A3.shape[0],1)\n",
    "\n",
    "    c = (c/N)\n",
    "    A3 =np.vstack([A3,c])\n",
    "\n",
    "    KA3 = np.linalg.cond(A3)\n",
    "\n",
    "    return A3, KA3\n"
   ]
  },
  {
   "cell_type": "markdown",
   "metadata": {},
   "source": [
    " - b\\) How does the conditioning of the resulting matrix depend\n",
    " on the the size of the system?\n",
    " $$\n",
    " \\\\\n",
    " $$\n",
    " **The condition of the matrix becomes worse as the size of the matrix increase.\n",
    " You can see this graph below. A (N) size increase the condition number grows\n",
    "  more and more NOTE it's not exponential was tested by plotting the log of the\n",
    "  condition number and size of array.**\n"
   ]
  },
  {
   "cell_type": "code",
   "execution_count": 7,
   "metadata": {},
   "outputs": [
    {
     "name": "stdout",
     "output_type": "stream",
     "text": [
      "Matrix A3 Size: (4, 3) Condition number: 12.247448713915889\n",
      "Matrix A3 Size: (9, 8) Condition number: 21.385953804600508\n",
      "Matrix A3 Size: (14, 13) Condition number: 61.200256469355885\n",
      "Matrix A3 Size: (19, 18) Condition number: 121.41295089805061\n",
      "Matrix A3 Size: (24, 23) Condition number: 202.0391032274652\n",
      "Matrix A3 Size: (29, 28) Condition number: 303.0946693055865\n",
      "Matrix A3 Size: (34, 33) Condition number: 424.58656748511504\n",
      "Matrix A3 Size: (39, 38) Condition number: 566.5145790030663\n",
      "Matrix A3 Size: (44, 43) Condition number: 728.8756649633553\n",
      "Matrix A3 Size: (49, 48) Condition number: 911.6667126410914\n"
     ]
    }
   ],
   "source": [
    "## Loop and calcualte the condition number (KA & KA2) for the matrix (A & A2)\n",
    "N = np.arange(5,55,5)\n",
    "A3_list,  KA3_list, A3shape_list = [], [], []\n",
    "\n",
    "for size in N:\n",
    "    A3, KA3 = Neumann(size)\n",
    "    A3_list.append(A3)\n",
    "    KA3_list.append(KA3)\n",
    "    A3shape_list.append(A3.shape[0])\n",
    "\n",
    "    ## Print condtion number of matrix A\n",
    "    print(f\"Matrix A3 Size: {A3.shape} Condition number: {KA3}\")\n",
    "\n"
   ]
  },
  {
   "cell_type": "markdown",
   "metadata": {},
   "source": [
    "\n",
    " - c\\) Is it better or worse than for Dirichlet boundary conditions?\n",
    " $$\n",
    " \\\\\n",
    " $$\n",
    " ** This depends on when you are comparing to the Dirichlet boundary conditions\n",
    "  to the Newmann boundary condition. At a small size matrix, both the Dirichlet\n",
    "  boundary condition have a smaller (easier to solve) condition number than the\n",
    "  Newmann boundary condition. However, as the size of the matrix values increases\n",
    "  the eigenvalue range is less for the Newmann boundary condition (by this I mean\n",
    "  has a smaller boundary condition number).**\n"
   ]
  },
  {
   "cell_type": "markdown",
   "metadata": {},
   "source": [
    "<i> They'll be even closer at high numbers if you use the system size"
   ]
  },
  {
   "cell_type": "code",
   "execution_count": 8,
   "metadata": {},
   "outputs": [
    {
     "data": {
      "text/plain": [
       "[Text(0, 0.5, 'Condtion Number (K)'),\n",
       " Text(0.5, 0, 'N (size of one side of matrix)')]"
      ]
     },
     "execution_count": 8,
     "metadata": {},
     "output_type": "execute_result"
    },
    {
     "data": {
      "image/png": "[encoded data removed]",
      "text/plain": [
       "<Figure size 1152x576 with 1 Axes>"
      ]
     },
     "metadata": {
      "needs_background": "light"
     },
     "output_type": "display_data"
    }
   ],
   "source": [
    "\n",
    "## Plt condition number (K) v N size of matirx A3 \n",
    "fig,ax=plt.subplots(1,figsize=(16,8))\n",
    "ax.set_title(\"Condition number (K) v N size of matirx A3 \")\n",
    "ax.plot(Ashape_list,KA_list, color = 'blue', lw = 1.5, label = \"Matrix A\")\n",
    "ax.plot(A2shape_list,KA2_list, color = 'red', lw = 1.5, label = \"Matrix A2\")\n",
    "ax.plot(A3shape_list,KA3_list, color = 'k', lw = 1.5, label = \"Matrix A3\")\n",
    "ax.grid(True)\n",
    "ax.legend()\n",
    "ax.set(xlabel='N (size of one side of matrix)',ylabel='Condtion Number (K)')\n",
    "\n",
    "\n"
   ]
  },
  {
   "cell_type": "markdown",
   "metadata": {},
   "source": [
    " #### Problem Five: Consider a long hallway in an office building. If we assume that any\n",
    " cigarrette smoke, mixes across the width of the hallway and vertically\n",
    " through the depth of the hallway much faster than it mixes along the\n",
    " hallway, we can write the diffusion of cigaratte smoke as an equation\n",
    " where S is the concentration of smoke, κ is the rate of diffusion of\n",
    " smoke, γ is the rate at which the smoke sticks to the walls or otherwise\n",
    " leaves the system, α(x) is the sources of smoke, t is the time and x is\n",
    " distance along the hallway.\n",
    "\n",
    "\n",
    " - a\\) Write the appropriate equation for the steady state.\n",
    "\n",
    "\n",
    " $$\n",
    " \\partial S / \\partial t=\\kappa \\frac{\\partial^{2} S}{\\partial x^{2}}-\\gamma S+\\alpha(x)\n",
    " $$\n",
    "\n",
    " $$\n",
    " \\frac{\\partial S}{\\partial t}=0\\quad   \\text{Steady State}\n",
    " $$\n",
    "\n",
    " $$\n",
    " 0 =\\kappa \\frac{\\partial^{2} S}{\\partial x^{2}}-\\gamma S+\\alpha(x)\n",
    " $$\n",
    "\n",
    "\n",
    " $$\n",
    " \\kappa\\left(\\frac{S_{i+1}-2 S_{i}+S_{i-1}}{d^{2}}\\right)-\\gamma S+\\alpha_{i}=0\n",
    " $$\n",
    "\n",
    " $$\n",
    " S_{i+1}-S_{i}\\left(2+\\frac{\\gamma d^{2}}{\\kappa}\\right)+S_{i-1}=\\frac{d^{2}}{\\kappa} \\alpha_{i}\n",
    " $$\n",
    "\n",
    " $$\n",
    " \\gamma = 0\\quad   \\text{No Sink}\n",
    " $$\n",
    "\n",
    " $$\n",
    " S_{i+1}-2 S_{i}+S_{i-1}=\\frac{d^{2}}{\\kappa} \\alpha_{i}\n",
    " $$\n",
    " $$\n",
    " \\\\\n",
    " \\\\\n",
    " $$\n",
    " - b\\) Discretize the hall into N segments and write the equation for the\n",
    " steady state as a matrix equation.\n",
    " $$\n",
    " \\\\\n",
    " \\\\\n",
    " $$\n",
    " **SEE ATTACHED PNG IF NO DISPLAY**\n",
    " <img src='matrix_q5.png' width='60%' />\n",
    "\n"
   ]
  },
  {
   "cell_type": "markdown",
   "metadata": {},
   "source": [
    "<i> Explanation of the boundary conditions?"
   ]
  },
  {
   "cell_type": "code",
   "execution_count": 14,
   "metadata": {},
   "outputs": [],
   "source": [
    "\n",
    "def NeumannCig(N, gamma, alpha, x):\n",
    "    \"\"\"\n",
    "    This function that outputs a \n",
    "    matrix A4 for a given value of N\n",
    "    using Neumann Boundary Conditions\n",
    "    \"\"\"\n",
    "    kappa = 0.05 \n",
    "    dx    = N * 20 \n",
    "    \n",
    "\n",
    "    A = np.zeros((N,N))\n",
    "    for index in range(1,N-1):\n",
    "        A[index,index] = -2 + ((gamma * dx**2)/kappa)\n",
    "        A[index,index + 1] = A[index,index - 1] = 1\n",
    "\n",
    "    A[0,0] = A[-1,-1] =1\n",
    "    A4 = A[1:-1,1:-1]\n",
    "    A4[0,1] = A4[-1,-2] = 2\n",
    "\n",
    "    b = (dx**2/(kappa*alpha*x))\n",
    "    c = np.full(A4.shape[0],b)\n",
    "\n",
    "\n",
    "    KA4 = np.linalg.cond(A4)\n",
    "    if gamma == 0:\n",
    "        S4 = np.inf\n",
    "    else:\n",
    "        S4 = np.linalg.solve(A4,c)\n",
    "\n",
    "    return A4, KA4, S4\n",
    "\n"
   ]
  },
  {
   "cell_type": "markdown",
   "metadata": {},
   "source": [
    "<i> dx = 20 / N"
   ]
  },
  {
   "cell_type": "code",
   "execution_count": 20,
   "metadata": {},
   "outputs": [
    {
     "data": {
      "text/plain": [
       "array([[140.22222222,   2.        ,   0.        ,   0.        ,\n",
       "          0.        ,   0.        ],\n",
       "       [  1.        , 140.22222222,   1.        ,   0.        ,\n",
       "          0.        ,   0.        ],\n",
       "       [  0.        ,   1.        , 140.22222222,   1.        ,\n",
       "          0.        ,   0.        ],\n",
       "       [  0.        ,   0.        ,   1.        , 140.22222222,\n",
       "          1.        ,   0.        ],\n",
       "       [  0.        ,   0.        ,   0.        ,   1.        ,\n",
       "        140.22222222,   1.        ],\n",
       "       [  0.        ,   0.        ,   0.        ,   0.        ,\n",
       "          2.        , 140.22222222]])"
      ]
     },
     "execution_count": 20,
     "metadata": {},
     "output_type": "execute_result"
    }
   ],
   "source": [
    "A4, KA4, S4 = NeumannCig(8, gamma, alpha, x)\n",
    "A4"
   ]
  },
  {
   "cell_type": "markdown",
   "metadata": {},
   "source": [
    " - c\\) Taking α(x) = 0.005δ(x∗) kg m−1s\n",
    " −1 where you can choose the\n",
    " point x∗, κ = 0.05m2s−1, γ = (3600 s)−1\n",
    " , find the solution for\n",
    " your choice of N between 5 and 15. Take the length of the hall as\n",
    " 20 m."
   ]
  },
  {
   "cell_type": "code",
   "execution_count": 18,
   "metadata": {},
   "outputs": [
    {
     "name": "stdout",
     "output_type": "stream",
     "text": [
      "Matrix A4 Size: (5, 5) the solution: 180000.0\n",
      "Matrix A4 Size: (6, 6) the solution: 180000.00000000003\n",
      "Matrix A4 Size: (7, 7) the solution: 180000.0\n",
      "Matrix A4 Size: (8, 8) the solution: 180000.00000000003\n",
      "Matrix A4 Size: (9, 9) the solution: 180000.00000000003\n",
      "Matrix A4 Size: (10, 10) the solution: 180000.0\n",
      "Matrix A4 Size: (11, 11) the solution: 180000.0\n",
      "Matrix A4 Size: (12, 12) the solution: 180000.0\n",
      "Matrix A4 Size: (13, 13) the solution: 180000.0\n",
      "Matrix A4 Size: (14, 14) the solution: 180000.00000000003\n",
      "Matrix A4 Size: (15, 15) the solution: 179999.99999999997\n"
     ]
    }
   ],
   "source": [
    "\n",
    "## Loop and calcualte the solution for the matrix (A4)\n",
    "## gamma = 1/3600\n",
    "## alpha = 0.005\n",
    "N     = np.arange(7,18,1)\n",
    "gamma = (1/3600)\n",
    "alpha = 0.005\n",
    "x     = 4  ## Distance down hallway\n",
    "A4_list,  KA4_list = [], []\n",
    "\n",
    "for size in N:\n",
    "    A4, KA4, S4 = NeumannCig(size, gamma, alpha, x)\n",
    "    A4_list.append(A4)\n",
    "    KA4_list.append(KA4)\n",
    "\n",
    "    ## Print condtion number of matrix A\n",
    "    print(f\"Matrix A4 Size: {A4.shape} the solution: {S4[0]}\")\n",
    "\n"
   ]
  },
  {
   "cell_type": "code",
   "execution_count": 19,
   "metadata": {},
   "outputs": [
    {
     "data": {
      "text/plain": [
       "[<matplotlib.lines.Line2D at 0x119a60f50>]"
      ]
     },
     "execution_count": 19,
     "metadata": {},
     "output_type": "execute_result"
    },
    {
     "data": {
      "image/png": "[encoded data removed]",
      "text/plain": [
       "<Figure size 432x288 with 1 Axes>"
      ]
     },
     "metadata": {
      "needs_background": "light"
     },
     "output_type": "display_data"
    }
   ],
   "source": [
    "plt.plot(S4)"
   ]
  },
  {
   "cell_type": "markdown",
   "metadata": {},
   "source": [
    "<i> Solution is not just one point, but the concentration along the hallway"
   ]
  },
  {
   "cell_type": "markdown",
   "metadata": {},
   "source": [
    " - d\\) What is the condition number of the matrix?"
   ]
  },
  {
   "cell_type": "code",
   "execution_count": 11,
   "metadata": {},
   "outputs": [
    {
     "name": "stdout",
     "output_type": "stream",
     "text": [
      "Matrix A4 Size: (5, 5) Condition number: 1.0393319662562162\n",
      "Matrix A4 Size: (6, 6) Condition number: 1.029672627258267\n",
      "Matrix A4 Size: (7, 7) Condition number: 1.0232139709651555\n",
      "Matrix A4 Size: (8, 8) Condition number: 1.0186716372710007\n",
      "Matrix A4 Size: (9, 9) Condition number: 1.0153511576815386\n",
      "Matrix A4 Size: (10, 10) Condition number: 1.0128482142532576\n",
      "Matrix A4 Size: (11, 11) Condition number: 1.0109136845548548\n",
      "Matrix A4 Size: (12, 12) Condition number: 1.0093869695558315\n",
      "Matrix A4 Size: (13, 13) Condition number: 1.0081606252229254\n",
      "Matrix A4 Size: (14, 14) Condition number: 1.007160501158781\n",
      "Matrix A4 Size: (15, 15) Condition number: 1.0063340523692539\n"
     ]
    }
   ],
   "source": [
    "\n",
    "## Loop and calcualte the condition number (KA4) for the matrix (A4)\n",
    "## gamma = 1/3600\n",
    "## alpha = 0.005\n",
    "N = np.arange(7,18,1)\n",
    "gamma = (1/3600)\n",
    "alpha = 0.005\n",
    "A4_list,  KA4_list = [], []\n",
    "\n",
    "for size in N:\n",
    "    A4, KA4, S4 = NeumannCig(size, gamma, alpha, x)\n",
    "    A4_list.append(A4)\n",
    "    KA4_list.append(KA4)\n",
    "\n",
    "    ## Print condtion number of matrix A\n",
    "    print(f\"Matrix A4 Size: {A4.shape} Condition number: {KA4}\")\n"
   ]
  },
  {
   "cell_type": "markdown",
   "metadata": {},
   "source": [
    " - e\\) If γ is 0 what is the condition number of the matrix? Physically\n",
    " why is there no single solution?\n",
    " $$\n",
    " \\\\\n",
    " $$\n",
    " **With γ set equal to zero means there is no sink (ie smoke will\n",
    " continue to accumulate). This is not physical because in real life the\n",
    "  walls are permeable and smoke will \"sink\" into the walls (material dependent\n",
    " of course, but regardless the smoke will escape somewhere).**"
   ]
  },
  {
   "cell_type": "markdown",
   "metadata": {},
   "source": [
    "<i> Fair enough.  I was expecting because the smoke would keep increasing there would be no steady state"
   ]
  },
  {
   "cell_type": "code",
   "execution_count": 12,
   "metadata": {},
   "outputs": [
    {
     "name": "stdout",
     "output_type": "stream",
     "text": [
      "Matrix A4 Size: (5, 5) Condition number: 5.032046816506539e+16\n",
      "Matrix A4 Size: (6, 6) Condition number: 1.0940526563829056e+16\n",
      "Matrix A4 Size: (7, 7) Condition number: 1.5544883919358014e+16\n",
      "Matrix A4 Size: (8, 8) Condition number: 2.750341184314299e+16\n",
      "Matrix A4 Size: (9, 9) Condition number: 1.3302595286647701e+17\n",
      "Matrix A4 Size: (10, 10) Condition number: 1.902370903789813e+17\n",
      "Matrix A4 Size: (11, 11) Condition number: 2.1272854874742218e+17\n",
      "Matrix A4 Size: (12, 12) Condition number: 4.44321537708298e+16\n",
      "Matrix A4 Size: (13, 13) Condition number: 8.460354605250522e+17\n",
      "Matrix A4 Size: (14, 14) Condition number: 2.505265985251208e+16\n",
      "Matrix A4 Size: (15, 15) Condition number: 3.750646817353567e+16\n"
     ]
    }
   ],
   "source": [
    "\n",
    "\n",
    "## Loop and calcualte the condition number (KA4) for the matrix (A4)\n",
    "## gamma = 0\n",
    "## alpha = 0\n",
    "N = np.arange(7,18,1)\n",
    "gamma = 0\n",
    "alpha = 0.005\n",
    "A4_list,  KA4_list = [], []\n",
    "\n",
    "for size in N:\n",
    "    A4, KA4, S4 = NeumannCig(size, gamma, alpha, x)\n",
    "    A4_list.append(A4)\n",
    "    KA4_list.append(KA4)\n",
    "\n",
    "    ## Print condtion number of matrix A\n",
    "    print(f\"Matrix A4 Size: {A4.shape} Condition number: {KA4}\")\n"
   ]
  },
  {
   "cell_type": "markdown",
   "metadata": {},
   "source": [
    " - f\\) If γ is 0 and α is 0, why physically is there no single solution?\n",
    " $$\n",
    " \\\\\n",
    " $$\n",
    " **To continue with the idea above (e) if there is no smoke leaving the\n",
    "  system smoke will continue to accumulate however if there is no alpha\n",
    "  than there is no \"input \" or smoke being introduced to the system in the\n",
    "  first place! So smoke can not accumulate without an input...not physical **"
   ]
  },
  {
   "cell_type": "markdown",
   "metadata": {},
   "source": [
    "<i> Yes, it can't accumulate, but it could just hang around."
   ]
  },
  {
   "cell_type": "code",
   "execution_count": 13,
   "metadata": {},
   "outputs": [
    {
     "name": "stdout",
     "output_type": "stream",
     "text": [
      "Matrix A4 Size: (5, 5) Condition number: 5.032046816506539e+16\n",
      "Matrix A4 Size: (6, 6) Condition number: 1.0940526563829056e+16\n",
      "Matrix A4 Size: (7, 7) Condition number: 1.5544883919358014e+16\n",
      "Matrix A4 Size: (8, 8) Condition number: 2.750341184314299e+16\n",
      "Matrix A4 Size: (9, 9) Condition number: 1.3302595286647701e+17\n",
      "Matrix A4 Size: (10, 10) Condition number: 1.902370903789813e+17\n",
      "Matrix A4 Size: (11, 11) Condition number: 2.1272854874742218e+17\n",
      "Matrix A4 Size: (12, 12) Condition number: 4.44321537708298e+16\n",
      "Matrix A4 Size: (13, 13) Condition number: 8.460354605250522e+17\n",
      "Matrix A4 Size: (14, 14) Condition number: 2.505265985251208e+16\n",
      "Matrix A4 Size: (15, 15) Condition number: 3.750646817353567e+16\n"
     ]
    },
    {
     "name": "stderr",
     "output_type": "stream",
     "text": [
      "/Users/sallen/miniconda3/envs/numeric/lib/python3.7/site-packages/ipykernel_launcher.py:20: RuntimeWarning: divide by zero encountered in true_divide\n"
     ]
    }
   ],
   "source": [
    "\n",
    "## Loop and calcualte the condition number (KA4) for the matrix (A4)\n",
    "## gamma = 0\n",
    "## alpha = 0\n",
    "N = np.arange(7,18,1)\n",
    "gamma = 0\n",
    "alpha = 0\n",
    "A4_list,  KA4_list = [], []\n",
    "\n",
    "for size in N:\n",
    "    A4, KA4, S4 = NeumannCig(size, gamma, alpha, x)\n",
    "    A4_list.append(A4)\n",
    "    KA4_list.append(KA4)\n",
    "\n",
    "    ## Print condtion number of matrix A\n",
    "    print(f\"Matrix A4 Size: {A4.shape} Condition number: {KA4}\")\n",
    "\n",
    "\n",
    "\n"
   ]
  }
 ],
 "metadata": {
  "file_extension": ".py",
  "kernelspec": {
   "display_name": "Python 3",
   "language": "python",
   "name": "python3"
  },
  "language_info": {
   "codemirror_mode": {
    "name": "ipython",
    "version": 3
   },
   "file_extension": ".py",
   "mimetype": "text/x-python",
   "name": "python",
   "nbconvert_exporter": "python",
   "pygments_lexer": "ipython3",
   "version": "3.7.6"
  },
  "mimetype": "text/x-python",
  "name": "python",
  "npconvert_exporter": "python",
  "pygments_lexer": "ipython3",
  "toc": {
   "base_numbering": 1,
   "nav_menu": {},
   "number_sections": true,
   "sideBar": true,
   "skip_h1_title": false,
   "title_cell": "Table of Contents",
   "title_sidebar": "Contents",
   "toc_cell": true,
   "toc_position": {},
   "toc_section_display": true,
   "toc_window_display": false
  },
  "version": 3
 },
 "nbformat": 4,
 "nbformat_minor": 2
}
