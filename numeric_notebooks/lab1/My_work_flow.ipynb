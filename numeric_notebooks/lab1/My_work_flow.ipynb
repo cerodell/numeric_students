{
 "cells": [
  {
   "cell_type": "markdown",
   "metadata": {},
   "source": [
    "# My work flow"
   ]
  },
  {
   "cell_type": "markdown",
   "metadata": {},
   "source": [
    "### Clone your fork:\n",
    "\n",
    "`git clone git@github.com:YOUR-USERNAME/YOUR-FORKED-REPO.git`\n",
    "\n",
    "### Add remote from original repository in your forked repository:\n",
    "\n",
    "`cd into/cloned/fork-repo\n",
    "git remote add upstream git://github.com/ORIGINAL-DEV-USERNAME/REPO-YOU-FORKED-FROM.git\n",
    "git fetch upstream`\n",
    "\n",
    "### Updating your fork from original repo to keep up with their changes:\n",
    "\n",
    "`git pull upstream downloads`"
   ]
  },
  {
   "cell_type": "markdown",
   "metadata": {},
   "source": []
  }
 ],
 "metadata": {
  "kernelspec": {
   "display_name": "Python 3",
   "language": "python",
   "name": "python3"
  },
  "language_info": {
   "codemirror_mode": {
    "name": "ipython",
    "version": 3
   },
   "file_extension": ".py",
   "mimetype": "text/x-python",
   "name": "python",
   "nbconvert_exporter": "python",
   "pygments_lexer": "ipython3",
   "version": "3.7.6"
  }
 },
 "nbformat": 4,
 "nbformat_minor": 2
}
