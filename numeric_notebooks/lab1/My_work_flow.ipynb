{
 "cells": [
  {
   "cell_type": "code",
   "execution_count": null,
   "metadata": {},
   "outputs": [],
   "source": []
  },
  {
   "cell_type": "markdown",
   "metadata": {},
   "source": [
    "# My work flow"
   ]
  },
  {
   "cell_type": "markdown",
   "metadata": {},
   "source": []
  },
  {
   "cell_type": "markdown",
   "metadata": {},
   "source": [
    "### Clone your fork:\n",
    "\n",
    "`git clone git@github.com:YOUR-USERNAME/YOUR-FORKED-REPO.git`\n",
    "\n",
    "### Add remote from original repository in your forked repository:\n",
    "\n",
    "`cd into/cloned/fork-repo`\n",
    "\n",
    "`git remote add upstream git://github.com/ORIGINAL-DEV-USERNAME/REPO-YOU-FORKED-FROM.git`\n",
    "\n",
    "`git fetch upstream`\n",
    "\n",
    "### Updating your fork from original repo to keep up with their changes:\n",
    "\n",
    "`git pull upstream downloads`\n",
    "\n",
    "\n",
    "\n"
   ]
  },
  {
   "cell_type": "markdown",
   "execution_count": 1,
   "metadata": {},
   "outputs": [
    {
     "ename": "SyntaxError",
     "evalue": "invalid syntax (<ipython-input-1-e3cfd8380983>, line 3)",
     "output_type": "error",
     "traceback": [
      "\u001b[0;36m  File \u001b[0;32m\"<ipython-input-1-e3cfd8380983>\"\u001b[0;36m, line \u001b[0;32m3\u001b[0m\n\u001b[0;31m    `git add .`\u001b[0m\n\u001b[0m    ^\u001b[0m\n\u001b[0;31mSyntaxError\u001b[0m\u001b[0;31m:\u001b[0m invalid syntax\n"
     ]
    }
   ],
   "source": [
    "### Workflow for your local forked repo:\n",
    "##### To add new changes\n",
    "`git add .`\n",
    "\n",
    "##### Add commit on new changes\n",
    "`git commit -m \"Add Note\"`\n",
    "\n",
    "##### Push changes to fork\n",
    "`git push`\n",
    "\n",
    "##### Pull changes to fork\n",
    "`git pull`\n",
    "\n",
    "#### My conda environment\n",
    "`conda activate numeric`\n",
    "\n",
    "##### Hello World"
   ]
  },
  {
   "cell_type": "code",
   "execution_count": null,
   "metadata": {},
   "outputs": [],
   "source": []
  }
 ],
 "metadata": {
  "kernelspec": {
   "display_name": "Python 3",
   "language": "python",
   "name": "python3"
  },
  "language_info": {
   "codemirror_mode": {
    "name": "ipython",
    "version": 3
   },
   "file_extension": ".py",
   "mimetype": "text/x-python",
   "name": "python",
   "nbconvert_exporter": "python",
   "pygments_lexer": "ipython3",
   "version": "3.7.5-final"
  }
 },
 "nbformat": 4,
 "nbformat_minor": 2
}